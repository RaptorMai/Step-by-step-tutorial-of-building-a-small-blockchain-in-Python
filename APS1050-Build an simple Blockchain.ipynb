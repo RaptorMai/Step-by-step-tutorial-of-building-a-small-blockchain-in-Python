{
 "cells": [
  {
   "cell_type": "markdown",
   "metadata": {},
   "source": [
    "# Build a super small Blockchain in Python in 100 lines\n",
    "\n",
    "### A step by step tutorial"
   ]
  },
  {
   "cell_type": "markdown",
   "metadata": {},
   "source": [
    "We have learned a lot of theory about Blockchain and cryptocurrency in class. To better understand how Blockchain works, I am going to build a very small Blcokchain in Python and explain them in detail here. Unlike other tutorials, the Blockchain I am going to build is very simple and omit some features of Blockchain. But the advantage is that the program will be extremely short and people with zero coding foundation can understand it.\n",
    "\n",
    "In first three steps, we build a blockchain in one computer. We may need some basic HTTP and back-end knowledge to fully understand the code after step3"
   ]
  },
  {
   "cell_type": "markdown",
   "metadata": {},
   "source": [
    "Requirement:  \n",
    "python 3.6  \n",
    "flask 1.0.2"
   ]
  },
  {
   "cell_type": "markdown",
   "metadata": {},
   "source": [
    "## Step1: Define our block"
   ]
  },
  {
   "cell_type": "markdown",
   "metadata": {},
   "source": [
    "As we only want a very basic blockchain, we only store five elements in our block. \n",
    "1. timestamp\n",
    "2. index\n",
    "3. data\n",
    "4. previous hash\n",
    "5. block hash\n",
    "\n",
    "As we have learned in class, each block should have a hash which is a cryptographic hash of the block’s index, timestamp, data, and the hash of the previous block’s hash. The data can be anything we want to store. The hash function I am using is sha256 which has been introduced in the class"
   ]
  },
  {
   "cell_type": "code",
   "execution_count": 1,
   "metadata": {},
   "outputs": [],
   "source": [
    "#import python library we will use\n",
    "from datetime import datetime\n",
    "import hashlib as hasher\n",
    "import json"
   ]
  },
  {
   "cell_type": "code",
   "execution_count": 2,
   "metadata": {},
   "outputs": [],
   "source": [
    "class Block:\n",
    "    def __init__(self, index, timestamp, data, previous_hash):\n",
    "        self.index = index\n",
    "        self.timestamp = timestamp\n",
    "        self.data = data\n",
    "        self.previous_hash = previous_hash\n",
    "        self.hash = self.hash_block()\n",
    "    \n",
    "    #This function is used to print the block's index\n",
    "    def showBlock(self):\n",
    "        return json.dumps({\n",
    "            'index': self.index,\n",
    "            'timestamp': self.timestamp,\n",
    "            'data': self.data,\n",
    "            'previous_hash': self.previous_hash,\n",
    "            'hash': self.hash\n",
    "        })\n",
    "    \n",
    "    def hash_block(self):\n",
    "        sha = hasher.sha256()\n",
    "        seq = [str(self.index), str(self.timestamp), str(self.data), str(self.previous_hash)]\n",
    "        sha.update(''.join(seq).encode('utf-8'))\n",
    "        return sha.hexdigest()"
   ]
  },
  {
   "cell_type": "markdown",
   "metadata": {},
   "source": [
    "**Code Explaination**  \n",
    "(index, timestamp, data, previous_hash) are provded when we create a new block. The hash_block function is used to create the hash for this block. We firstly cast index, timestamp, data, previous_hash to be string and save them in ```seq```. Then we use sha256 function from Python library to hash all of (index, timestamp, data, previous_hash) into one single hash and the hash will be the hash of this block.\n",
    "\n",
    "The function showBlock is used to show the information of the current block and will be used in the later part"
   ]
  },
  {
   "cell_type": "markdown",
   "metadata": {},
   "source": [
    "## Step2: Create the blockchain"
   ]
  },
  {
   "cell_type": "markdown",
   "metadata": {},
   "source": [
    "### Create genesis block"
   ]
  },
  {
   "cell_type": "markdown",
   "metadata": {},
   "source": [
    "Each block needs hash from previous block, but first block (genesis block) does not have previous block. So we need to treat it specially and create it manually"
   ]
  },
  {
   "cell_type": "code",
   "execution_count": 3,
   "metadata": {},
   "outputs": [],
   "source": [
    "def make_genesis_block():\n",
    "    \"\"\"Make the first block in a block-chain.\"\"\"\n",
    "    block = Block(index=0,\n",
    "                  timestamp=datetime.now(),\n",
    "                  data=\"Genesis Block\",\n",
    "                  previous_hash=\"0\")\n",
    "    return block"
   ]
  },
  {
   "cell_type": "markdown",
   "metadata": {},
   "source": [
    "**Code Explaination**  \n",
    "We create a new block using ```Block``` which we define in Step1. As we don't have hash from previous block, we simply give a random string e.g \"0\". ```datetime.now()``` gives the current time and as this is our first block, we set index to 0"
   ]
  },
  {
   "cell_type": "markdown",
   "metadata": {},
   "source": [
    "### Link other blocks"
   ]
  },
  {
   "cell_type": "markdown",
   "metadata": {},
   "source": [
    "Next, we need to write a function to build a new block based on the previous block. "
   ]
  },
  {
   "cell_type": "code",
   "execution_count": 4,
   "metadata": {},
   "outputs": [],
   "source": [
    "def next_block(pre_block, data=''):\n",
    "    \"\"\"Return next block in a block chain.\"\"\"\n",
    "    idx = pre_block.index + 1\n",
    "    block = Block(index=idx,\n",
    "                  timestamp=datetime.now(),\n",
    "                  data='This is block {}'.format(idx),\n",
    "                  previous_hash=pre_block.hash)\n",
    "    return block"
   ]
  },
  {
   "cell_type": "markdown",
   "metadata": {},
   "source": [
    "**Code Explaination**  \n",
    "This function takes previous block as parameter. Firstly, the function gets previous block's index and increase it by 1 as the current block's index. As I have mentioned before, we need to embed previous block's hash to increase the integrity of the blockchain. This chain of hashes acts as cryptographic proof and helps ensure that once a block is added to the blockchain it cannot be replaced or removed.\n"
   ]
  },
  {
   "cell_type": "markdown",
   "metadata": {},
   "source": [
    "### Test our code"
   ]
  },
  {
   "cell_type": "markdown",
   "metadata": {},
   "source": [
    "We have finished a very basic version our the blockchain. Let's test it by creating 15 blocks and linking them together."
   ]
  },
  {
   "cell_type": "code",
   "execution_count": 5,
   "metadata": {},
   "outputs": [],
   "source": [
    "def run_simple_chain():\n",
    "    \"\"\"Test creating chain of 15 blocks.\"\"\"\n",
    "    blockchain = [make_genesis_block()]\n",
    "    prev_block = blockchain[0]\n",
    "    for _ in range(0, 15):\n",
    "        block = next_block(prev_block, data='Change to anything you want')\n",
    "        blockchain.append(block)\n",
    "        prev_block = block\n",
    "        print('Block {} added to blockchain at {}'.format(block.index, block.timestamp))\n",
    "        print('Previous block\\'s hash: {}'.format(block.previous_hash))\n",
    "        print('Hash: {}\\n'.format(block.hash))"
   ]
  },
  {
   "cell_type": "markdown",
   "metadata": {},
   "source": [
    "**Code Explaination**  \n",
    "We use list(a data structure in Python, similar with array) to store the blocks. We create 15 blocks using loop. Firstly, we create the genesis block. Then everytime after we create a new block using the previous block, we need to set the ```prev_block``` to the new block we create so that in the next iteration, we can use it to create new block. If we do not do this, all the blocks we build will be based on the genesis block.\n"
   ]
  },
  {
   "cell_type": "code",
   "execution_count": 6,
   "metadata": {},
   "outputs": [
    {
     "name": "stdout",
     "output_type": "stream",
     "text": [
      "Block 1 added to blockchain at 2018-12-16 22:40:33.216532\n",
      "Previous block's hash: 283d3c5a61395a9cc3cbfac7271e3d518bb008a1631b5d3f2cd0606982fb2f68\n",
      "Hash: f93b5b2ce3e484f408ed68d69fe026e20340eff1d78c720da3c36e6b46f6f857\n",
      "\n",
      "Block 2 added to blockchain at 2018-12-16 22:40:33.217167\n",
      "Previous block's hash: f93b5b2ce3e484f408ed68d69fe026e20340eff1d78c720da3c36e6b46f6f857\n",
      "Hash: 307c1169483ffe8f0d3cbe3bd660457217264c23bc66d834c5f1d30d8a9de87a\n",
      "\n",
      "Block 3 added to blockchain at 2018-12-16 22:40:33.217283\n",
      "Previous block's hash: 307c1169483ffe8f0d3cbe3bd660457217264c23bc66d834c5f1d30d8a9de87a\n",
      "Hash: 2149f41c672801d563223e97b3160726aaf8c10d0310cb2ae9ed2b02ebf2e9de\n",
      "\n",
      "Block 4 added to blockchain at 2018-12-16 22:40:33.217379\n",
      "Previous block's hash: 2149f41c672801d563223e97b3160726aaf8c10d0310cb2ae9ed2b02ebf2e9de\n",
      "Hash: 24d050f89a9c671647377656580faf3b027827ed1b5590b3e9d385b67de718a0\n",
      "\n",
      "Block 5 added to blockchain at 2018-12-16 22:40:33.217464\n",
      "Previous block's hash: 24d050f89a9c671647377656580faf3b027827ed1b5590b3e9d385b67de718a0\n",
      "Hash: 1a859ca6fd980e808f1bf833947577fd194b09f42b696e4c1c990dd42090bb64\n",
      "\n",
      "Block 6 added to blockchain at 2018-12-16 22:40:33.217581\n",
      "Previous block's hash: 1a859ca6fd980e808f1bf833947577fd194b09f42b696e4c1c990dd42090bb64\n",
      "Hash: 09a6a06bd89bda27832f2ba3f1c154e832d8ee87202b119af0899cfff5063592\n",
      "\n",
      "Block 7 added to blockchain at 2018-12-16 22:40:33.217808\n",
      "Previous block's hash: 09a6a06bd89bda27832f2ba3f1c154e832d8ee87202b119af0899cfff5063592\n",
      "Hash: 384c7b5b61e8ad1cdf35ff34c7f360f07bb2dcf777c9f7851abf17c5e67bd49e\n",
      "\n",
      "Block 8 added to blockchain at 2018-12-16 22:40:33.217965\n",
      "Previous block's hash: 384c7b5b61e8ad1cdf35ff34c7f360f07bb2dcf777c9f7851abf17c5e67bd49e\n",
      "Hash: 50121a7b8729d048542bc77fbf67347899591a33b585b95116b6f78001f5e3e5\n",
      "\n",
      "Block 9 added to blockchain at 2018-12-16 22:40:33.218073\n",
      "Previous block's hash: 50121a7b8729d048542bc77fbf67347899591a33b585b95116b6f78001f5e3e5\n",
      "Hash: 928d8c941d9d180e1564bd6710dc3f7c6698e6f255b2e836568e73bbc8952eb3\n",
      "\n",
      "Block 10 added to blockchain at 2018-12-16 22:40:33.218288\n",
      "Previous block's hash: 928d8c941d9d180e1564bd6710dc3f7c6698e6f255b2e836568e73bbc8952eb3\n",
      "Hash: 6bbba81285c45dd08eb9e27a105cab5c37611e8e2e9617a82e26d525e088b879\n",
      "\n",
      "Block 11 added to blockchain at 2018-12-16 22:40:33.218432\n",
      "Previous block's hash: 6bbba81285c45dd08eb9e27a105cab5c37611e8e2e9617a82e26d525e088b879\n",
      "Hash: a234f7a6ff1220d7d30c423f9700764cc0b999f8797c7a2468ecf9da57cf2ca1\n",
      "\n",
      "Block 12 added to blockchain at 2018-12-16 22:40:33.218515\n",
      "Previous block's hash: a234f7a6ff1220d7d30c423f9700764cc0b999f8797c7a2468ecf9da57cf2ca1\n",
      "Hash: 0a99df09b8cdbf69b449d5cde3f2473405fa900489390f3a9bf2635c1ea157b3\n",
      "\n",
      "Block 13 added to blockchain at 2018-12-16 22:40:33.218624\n",
      "Previous block's hash: 0a99df09b8cdbf69b449d5cde3f2473405fa900489390f3a9bf2635c1ea157b3\n",
      "Hash: ec40bdf11ac94a58d25f5d2765ac3096ae24704b6142810bd71e64603d0218ed\n",
      "\n",
      "Block 14 added to blockchain at 2018-12-16 22:40:33.218772\n",
      "Previous block's hash: ec40bdf11ac94a58d25f5d2765ac3096ae24704b6142810bd71e64603d0218ed\n",
      "Hash: 693d177c5e969650f3860ad4d447cb01f5fac0e32e960465e4ead8f94ed9c0b3\n",
      "\n",
      "Block 15 added to blockchain at 2018-12-16 22:40:33.218937\n",
      "Previous block's hash: 693d177c5e969650f3860ad4d447cb01f5fac0e32e960465e4ead8f94ed9c0b3\n",
      "Hash: 987beb4a35401717db4a48db004dcc97e8d8048a67a954efb40b8737047576e5\n",
      "\n"
     ]
    }
   ],
   "source": [
    "run_simple_chain()"
   ]
  },
  {
   "cell_type": "markdown",
   "metadata": {},
   "source": [
    "As we can see, we add 15 blocks and each block store previous block's hash and use it to generate the new block"
   ]
  },
  {
   "cell_type": "markdown",
   "metadata": {},
   "source": [
    "**----------------------------You may need some basic HTTP and back-end knowledge to fully understand the following parts----------------------------**"
   ]
  },
  {
   "cell_type": "markdown",
   "metadata": {},
   "source": [
    "## Step3: Change data field to a transaction"
   ]
  },
  {
   "cell_type": "markdown",
   "metadata": {},
   "source": [
    "In the previous simple version, the data field in each block is not used we set it to any random string. But noew we are going to change data field to a transaction. Same as Bitcoin, we want to use the transaction to keep tract of the sender, the receiver and amount. So the exmple of a transaction is  \n",
    "```\n",
    "{\n",
    "  \"from\": \"71238uqirbfh894-random-public-key-a-alkjdflakjfewn204ij\",\n",
    "  \"to\": \"93j4ivnqiopvh43-random-public-key-b-qjrgvnoeirbnferinfo\",\n",
    "  \"amount\": 3\n",
    "}\n",
    "```"
   ]
  },
  {
   "cell_type": "markdown",
   "metadata": {},
   "source": [
    "## Step4: Accept transactions from users"
   ]
  },
  {
   "cell_type": "markdown",
   "metadata": {},
   "source": [
    "As we have been taught in the lecture, the blockchain system should be able to accept transactions from users and after verify the transaction, the transaction can be added to the blockchain system.\n",
    "\n",
    "In step4, we are going add a funtion to accept transactions from users"
   ]
  },
  {
   "cell_type": "markdown",
   "metadata": {},
   "source": [
    "Before we write the function, we need to import **flask** which is a Python backend framework. We will use flask help create the server to accept request from users"
   ]
  },
  {
   "cell_type": "code",
   "execution_count": 17,
   "metadata": {},
   "outputs": [],
   "source": [
    "from flask import Flask\n",
    "from flask import request\n",
    "import requests\n",
    "from sys import argv\n",
    "node = Flask(__name__)"
   ]
  },
  {
   "cell_type": "code",
   "execution_count": 6,
   "metadata": {},
   "outputs": [],
   "source": [
    "@node.route('/transaction', methods=['POST'])\n",
    "def transaction():\n",
    "    if request.method == \"POST\":\n",
    "        #extract transaction data from POST request\n",
    "        transaction = request.get_json()\n",
    "        #store it in a list\n",
    "        transactions.append(transaction)\n",
    "\n",
    "        print('New Transaction')\n",
    "        print(json.dumps(transaction))\n",
    "        print(transactions)\n",
    "        return json.dumps(list(transactions))"
   ]
  },
  {
   "cell_type": "markdown",
   "metadata": {},
   "source": [
    "**Code Explaination**  \n",
    "When the user send a POST request to the url \"/transaction\", this function will extract data from this request and store in a list called transaction"
   ]
  },
  {
   "cell_type": "markdown",
   "metadata": {},
   "source": [
    "## Step5: Proof-of-Work and Mining"
   ]
  },
  {
   "cell_type": "markdown",
   "metadata": {},
   "source": [
    "Now, we can keep track of the transactions data sent by users. The blockchain system should allow people to mine new blocks and earn new coins. In this step, we implement two functions, proof_of_work and mining."
   ]
  },
  {
   "cell_type": "markdown",
   "metadata": {},
   "source": [
    "### Proof-of-Work (PoW)"
   ]
  },
  {
   "cell_type": "markdown",
   "metadata": {},
   "source": [
    "As we have learned in the class, the blockchain system does not want it to be too easy to mine the block, so it need some kind of difficulty of mining new blocks. We need a proof-of-work algorithm. \n",
    "\n",
    "A proof of work should be costly and time-consuming to produce but easy for others to verify and which satisfies certain requirements. Producing a proof of work can be a random process with low probability so that a lot of trial and error is required on average before a valid proof of work is generated. "
   ]
  },
  {
   "cell_type": "code",
   "execution_count": 3,
   "metadata": {},
   "outputs": [],
   "source": [
    "def proof_of_work(previous_proof):\n",
    "    incrementor = previous_proof + 1\n",
    "    while not (incrementor % 11 == 0 and incrementor % last_proof == 0):\n",
    "        incrementor += 1\n",
    "        \n",
    "    return incrementor"
   ]
  },
  {
   "cell_type": "markdown",
   "metadata": {},
   "source": [
    "**Code explaination**  \n",
    "To simplifiy the system, we create a very simple PoW. The function will take in the proof number from last block and keep increasing the number until it's divisible by 11(you can change to any number you want) and the proof number of previous block. Once the miner finds this number, a new coin should be rewarded to the miner"
   ]
  },
  {
   "cell_type": "markdown",
   "metadata": {},
   "source": [
    "### Mining"
   ]
  },
  {
   "cell_type": "code",
   "execution_count": 7,
   "metadata": {},
   "outputs": [],
   "source": [
    "@node.route('/mine', methods=['GET'])\n",
    "def mining():\n",
    "    last_block = blockchain[-1]\n",
    "    last_proof = last_block.data['proof-of-work']\n",
    "    proof = proof_of_work(last_proof)\n",
    "    transactions.append({\"from\": \"network\", \"to\": miner_address, \"amount\": 1})   \n",
    "    mined_block = Block(\n",
    "        index=last_block.index + 1,\n",
    "        timestamp=datetime.now().isoformat(),\n",
    "        data={\n",
    "            'proof-of-work': proof,\n",
    "            'transactions': list(transactions)\n",
    "        },\n",
    "        previous_hash=last_block.hash\n",
    "    )\n",
    "\n",
    "    blockchain.append(mined_block)\n",
    "    transactions[:] = []\n",
    "    return json.dumps([i.showBlock() for i in blockchain])"
   ]
  },
  {
   "cell_type": "markdown",
   "metadata": {},
   "source": [
    "**Code Explaination**  \n",
    "We simplify the mining process and this function will do the following steps:\n",
    "\n",
    "1. get the proof of work from the last block in the blockchain\n",
    "2. use function proof_of_work to find the a new proof number\n",
    "3. add a new transaction (the reward given by the blockchain to the miner) to the transactions list\n",
    "4. create a new block, which is used to store all current transactions accected by the system\n",
    "5. append this block to the blockchain list\n",
    "6. clear the transactions list, as we have keep all the transactions information to a new block in step5\n",
    "7. return the blockchain list back to the miner\n"
   ]
  },
  {
   "cell_type": "markdown",
   "metadata": {},
   "source": [
    "As we can see from the mining function, the data field of the block to a new form which is a JSON format data including two fields, proof-of-work and transactions. In order to be consistent, we need to change the make_genesis_block function. "
   ]
  },
  {
   "cell_type": "code",
   "execution_count": 20,
   "metadata": {},
   "outputs": [],
   "source": [
    "def make_genesis_block():\n",
    "    \"\"\"Make the first block in a block-chain.\"\"\"\n",
    "    block = Block(index=0,\n",
    "                  timestamp=datetime.now(),\n",
    "                  data= {\n",
    "                    'proof-of-work': 0,\n",
    "                    'transactions': []\n",
    "                  },\n",
    "                  previous_hash=\"0\")\n",
    "    return block"
   ]
  },
  {
   "cell_type": "markdown",
   "metadata": {},
   "source": [
    "## Last Step: Consensus"
   ]
  },
  {
   "cell_type": "markdown",
   "metadata": {},
   "source": [
    "Now we allows user to do two things  \n",
    "1. they can send coins to each other by sending transactions to our server\n",
    "2. the system can issue new coins to people when they finish a mining process. \n",
    "\n",
    "But we are doing this on one computer. Blockchain is decentralized, we need to make sure everyone in the network has the same chain. To do so, we can ask each node broadcast its chain to others and allow each node to verify other's chain so that the whole network comes to a *consensus* of what the current chain looks like. This is the **consensus algorithm**\n",
    "\n",
    "To simplify our system, we define the consensus algorithm as follow:  \n",
    "if a node's chain is diffrent from others, then the longest chain in the network will be the correct one and other shorter chains will be abandoned. If chains of all nodes are the same then, we continue"
   ]
  },
  {
   "cell_type": "code",
   "execution_count": 10,
   "metadata": {},
   "outputs": [],
   "source": [
    "@node.route('/add_node', methods=['POST'])\n",
    "def add_node():\n",
    "    n = request.get_json()\n",
    "    peer_nodes.add(n[\"node\"])\n",
    "    return json.dumps(list(peer_nodes))"
   ]
  },
  {
   "cell_type": "markdown",
   "metadata": {},
   "source": [
    "**Code Explaination**  \n",
    "\n",
    "When a new computer is added to the network, it should let other nodes in the network know new node joins the network. So the new computer should send a POST request to usrl \"/add_node\" with url of the new computer so that each node in the network can use this url to communicate with the new computer. All the urls of other nodes are stored in a list called peer_nodes"
   ]
  },
  {
   "cell_type": "code",
   "execution_count": 11,
   "metadata": {},
   "outputs": [],
   "source": [
    "@node.route('/chains', methods=['GET'])\n",
    "def get_chain():\n",
    "    chain_to_send = blockchain\n",
    "    ret = []\n",
    "    for block in chain_to_send:\n",
    "        new_block = {\n",
    "            'index': block.index,\n",
    "            'timestamp': block.timestamp,\n",
    "            'data': block.data,\n",
    "            'hash': block.hash}\n",
    "        ret.append(new_block)\n",
    "    return json.dumps(ret)"
   ]
  },
  {
   "cell_type": "markdown",
   "metadata": {},
   "source": [
    "**Code Explaination**  \n",
    "\n",
    "As we have explained above, when we do consensus, every node should get other node's chain and compare their length. When other nodes ask this computer what chain do you have by sending a GET request to \"/chains\", this function will get its current chain and send it back by transforming the chain list to a JSON object. The for loop in this function is used to convert the Block object into a dictionary object, as we can easily convert a list of dictionary to a JSON object.\n",
    "\n",
    "More information about dictionary and JSON\n",
    "https://www.w3schools.com/python/python_dictionaries.asp\n",
    "https://www.w3schools.com/python/python_json.asp"
   ]
  },
  {
   "cell_type": "code",
   "execution_count": 12,
   "metadata": {},
   "outputs": [],
   "source": [
    "def find_new_chains():\n",
    "    other_chains = []\n",
    "    for node_url in peer_nodes:\n",
    "        print(node_url)\n",
    "        block = requests.get(node_url + \"/chains\").content\n",
    "        block = json.loads(block)\n",
    "        other_chains.append(block)\n",
    "        print(block)        \n",
    "    return other_chains"
   ]
  },
  {
   "cell_type": "markdown",
   "metadata": {},
   "source": [
    "**Code Explaination**  \n",
    "\n",
    "As we have mentioned above, the peer_nodes is a set used to store all the urls of other nodes in the network. Also, if node1 want to know what chain does node2 has, it can send a GET request to 'url_node1/chains' and the get_chain function of node2 will send the chain that node2 has back to node1.\n",
    "\n",
    "Now before we implement our consensus function, the last step is to ask every node in the network to send their chains to us so that we can compare which chain is the longest. The find_new_chains function basically tries to send request to other nodes. If we get chains back, we store them in a list called other_chains which we will use in our consensus function"
   ]
  },
  {
   "cell_type": "code",
   "execution_count": 14,
   "metadata": {},
   "outputs": [],
   "source": [
    "def consensus():\n",
    "    global blockchain\n",
    "    other_chains = find_new_chains()\n",
    "    longest_chain = blockchain\n",
    "    flag = False\n",
    "    for chain in other_chains:\n",
    "        if len(longest_chain) < len(chain):\n",
    "            flag = True\n",
    "            longest_chain = chain\n",
    "    if flag:\n",
    "        tmp = []\n",
    "        for i in longest_chain:\n",
    "            tmp.append(Block(i['index'], i['timestamp'], i['data'], i['hash']))\n",
    "        blockchain = tmp\n",
    "        return\n",
    "    blockchain = longest_chain"
   ]
  },
  {
   "cell_type": "markdown",
   "metadata": {},
   "source": [
    "**Code Explaination**  \n",
    "Finally, this is our short and simple consensus function. This function does two things:  \n",
    "1. get other nodes' chain by calling find_new_chains() we implemented above\n",
    "2. we compare the length of each chain and choose the longest chain as our chain.\n",
    "\n",
    "The reason we want to use a flag is the find_new_chains() return a list of JSON format data. But our blockchain list consist of Block object. If there is longer chain in other nodes, we should convert the JSON data back to Block object"
   ]
  },
  {
   "cell_type": "markdown",
   "metadata": {},
   "source": [
    "**Last final step**  \n",
    "It seems we miss one final step,  where should we call the consensus function? \n",
    "\n",
    "When the user wants to know what chain a node has, the node should run the consensus() function and send chain back by calling get_chain() we implement above.\n"
   ]
  },
  {
   "cell_type": "code",
   "execution_count": 15,
   "metadata": {},
   "outputs": [],
   "source": [
    "@node.route('/cur_chain', methods=['GET'])\n",
    "def cur_chain():\n",
    "    consensus()\n",
    "    return get_chain()"
   ]
  },
  {
   "cell_type": "markdown",
   "metadata": {},
   "source": [
    "## Last Last step: Initialization"
   ]
  },
  {
   "cell_type": "code",
   "execution_count": 25,
   "metadata": {},
   "outputs": [],
   "source": [
    "miner_address = 'miner address ' + str(argv[1])\n",
    "blockchain = [make_genesis_block()]\n",
    "previous_block = blockchain[0]\n",
    "transactions = []\n",
    "peer_nodes = set()"
   ]
  },
  {
   "cell_type": "markdown",
   "metadata": {},
   "source": [
    "- miner_address is used as the address to receive coin \n",
    "- reward  blockchain is used to store all the block this node currently has  \n",
    "- previous block is the last block in the blockchain list\n",
    "- transaction is a list used to store all transactions that users sent to this node. This list will be empty everytime this node mine a block\n",
    "- peer_nodes is a set() used to store the urls of other nodes. The difference between set and list is that set is unique and will not have duplicate elements.\n"
   ]
  },
  {
   "cell_type": "markdown",
   "metadata": {},
   "source": [
    "## Let's test our blockchain"
   ]
  },
  {
   "cell_type": "markdown",
   "metadata": {},
   "source": [
    "#### 1. Launch two nodes using localhost with port 16001 and 16002. \n",
    "\n",
    "We now we call two notes 16001 and 16002. \n",
    "Open two terminal windows, and run one command in one window  \n",
    "```bash\n",
    "python aps1050.py 16002 \n",
    "python aps1050.py 16001\n",
    "```\n",
    "\n",
    "In each windows, you should see the following information\n",
    "\n",
    "```\n",
    " * Serving Flask app \"aps1050\" (lazy loading)\n",
    " * Environment: production\n",
    "   WARNING: Do not use the development server in a production environment.\n",
    "   Use a production WSGI server instead.\n",
    " * Debug mode: off\n",
    " * Running on http://127.0.0.1:16001/ (Press CTRL+C to quit)\n",
    "```"
   ]
  },
  {
   "cell_type": "markdown",
   "metadata": {},
   "source": [
    "#### 2. Send request to \"/add_node\" so that 16001 and 16002 know who are in the network\n",
    "\n",
    "Open another terminal windows and run these two commands one by one  \n",
    "```bash\n",
    "curl \"localhost:16001/add_node\" -X POST -H \"Content-Type: application/json\" -d '{\"node\": \"http://127.0.0.1:16002\"}'\n",
    "curl \"localhost:16002/add_node\" -X POST -H \"Content-Type: application/json\" -d '{\"node\": \"http://127.0.0.1:16001\"}'\n",
    "```\n",
    "\n",
    "We should see a list of url when we run each command  \n",
    "```bash\n",
    "[\"http://127.0.0.1:16002\"]\n",
    "```"
   ]
  },
  {
   "cell_type": "markdown",
   "metadata": {},
   "source": [
    "#### 3. Send two transactions to 16001\n",
    "\n",
    "In the same windows, run these two commands one by one\n",
    "```bash\n",
    "curl \"localhost:16001/transaction\" -H \"Content-Type: application/json\" -d '{\"from\": \"a\", \"to\":\"b\", \"amount\": 3}' \n",
    "curl \"localhost:16001/transaction\" -H \"Content-Type: application/json\" -d '{\"from\": \"b\", \"to\":\"c\", \"amount\": 3}'\n",
    "```\n",
    "We should see a list of transaction of node16001 when we run each command\n",
    "```bash\n",
    "[{\"from\": \"a\", \"to\": \"b\", \"amount\": 3}][{\"from\": \"a\", \"to\": \"b\", \"amount\": 3}, {\"from\": \"b\", \"to\": \"c\", \"amount\": 3}]\n",
    "```\n"
   ]
  },
  {
   "cell_type": "markdown",
   "metadata": {},
   "source": [
    "#### 4. Mine a block using node16001\n",
    "In order to put a block in the blockchain, we ask 16001 to mine a block\n",
    "\n",
    "```bash\n",
    "curl \"localhost:16001/mine\"\n",
    "```\n",
    "\n",
    "Now node16001 has 2 blocks, \n",
    "1. one genesis block(index 0)\n",
    "2. Another block (index 1) has 3 transactions:  \n",
    "   Two transactions we sent and one more contains the mining reward transaction\n",
    "\n",
    "```bash\n",
    "[{\"index\": 0, \"timestamp\": \"2018-12-16T17:49:52.035854\", \"data\": {\"proof-of-work\": 9, \"transactions\": []}, \"previous_hash\": \"0\", \"hash\": \"595564d37e277e6066c534831f3d04d58c0dc86dc6fbb845417370882e1a7be0\"}, {\"index\": 1, \"timestamp\": \"2018-12-16T17:52:59.138048\", \"data\": {\"proof-of-work\": 99, \"transactions\": [{\"from\": \"a\", \"to\": \"b\", \"amount\": 3}, {\"from\": \"b\", \"to\": \"c\", \"amount\": 3}, {\"from\": \"network\", \"to\": \"miner address 16001\", \"amount\": 1}]}, \"previous_hash\": \"595564d37e277e6066c534831f3d04d58c0dc86dc6fbb845417370882e1a7be0\", \"hash\": \"b71a049ff5756b9617ac8810a1821c8dbdba8bede70c17d0a1d3e84ccf4f4976\"}]\n",
    "```\n"
   ]
  },
  {
   "cell_type": "markdown",
   "metadata": {},
   "source": [
    "#### 5. What chain should node16002 have\n",
    "We can find out what chain does node16002 have by runing this command in the same window\n",
    "\n",
    "```bash\n",
    "curl \"localhost:16002/cur_chain\"\n",
    "```\n",
    "\n",
    "Node16002 has only one genesis block, but when we send request to 16002 ask what chain does it have, it should ask all notes for their chains (we only have 16001 so far) and find that 16001 has the longest chain (comparing with all nodes including 16002), so 16002 will use 16001's chain. So node16002 has the same chain as node16001.\n",
    "\n",
    "```bash\n",
    "[{\"index\": 0, \"timestamp\": \"2018-12-16T17:49:52.035854\", \"data\": {\"proof-of-work\": 9, \"transactions\": []}, \"hash\": \"adc07f0962b0f7713e405b90d057258db9fe1626723a5bc66669c9df0f9c3076\"}, {\"index\": 1, \"timestamp\": \"2018-12-16T17:52:59.138048\", \"data\": {\"proof-of-work\": 99, \"transactions\": [{\"from\": \"a\", \"to\": \"b\", \"amount\": 3}, {\"from\": \"b\", \"to\": \"c\", \"amount\": 3}, {\"from\": \"network\", \"to\": \"miner address 16001\", \"amount\": 1}]}, \"hash\": \"7b11b5b5784de063d7a1eba914dc5782b2f3908f8e41638208e60907f8364ddb\"}, {\"index\": 2, \"timestamp\": \"2018-12-16T17:59:19.097519\", \"data\": {\"proof-of-work\": 198, \"transactions\": [{\"from\": \"a\", \"to\": \"b\", \"amount\": 3}, {\"from\": \"b\", \"to\": \"c\", \"amount\": 3}, {\"from\": \"network\", \"to\": \"miner address 16001\", \"amount\": 1}]}, \"hash\": \"6ab5ca628b9974b98f40276687898978961992eb1eb89dcab75911d09876a30e\"}]\n",
    "```\n"
   ]
  },
  {
   "cell_type": "markdown",
   "metadata": {},
   "source": [
    "## What can we improve?"
   ]
  },
  {
   "cell_type": "markdown",
   "metadata": {},
   "source": [
    "What can the system currently do?\n",
    "1. A node can receive transactions\n",
    "2. A node can mine blocks and receive reward from the system\n",
    "3. A node can ask others what chains do other nodes have\n",
    "4. A node will replace the longest chain in the network with its original chain\n",
    "\n",
    "What we are missing?  \n",
    "1. Each user does not has his/her own wallet, so we can implement the wallet so each user can send, receive and store their coins\n",
    "2. A user interface that normal users can iteract with the system. We are using command line to interact with nodes now which is hard to use.\n",
    "3. A better PoW and consensus algorithm. We are using a very easy PoW and consensus algorithm which can be optimized\n",
    "4. We need to implement Transaction Validation Mechanism to ensure the all the transactions are valid before putting them into a block"
   ]
  },
  {
   "cell_type": "markdown",
   "metadata": {},
   "source": [
    "## Reference\n",
    "https://hackernoon.com/learn-blockchains-by-building-one-117428612f46  \n",
    "https://www.youtube.com/watch?v=b81Ib_oYbFk"
   ]
  }
 ],
 "metadata": {
  "kernelspec": {
   "display_name": "Python 3",
   "language": "python",
   "name": "python3"
  },
  "language_info": {
   "codemirror_mode": {
    "name": "ipython",
    "version": 3
   },
   "file_extension": ".py",
   "mimetype": "text/x-python",
   "name": "python",
   "nbconvert_exporter": "python",
   "pygments_lexer": "ipython3",
   "version": "3.6.6"
  }
 },
 "nbformat": 4,
 "nbformat_minor": 2
}
